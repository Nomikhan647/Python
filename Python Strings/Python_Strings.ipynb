{
 "cells": [
  {
   "cell_type": "code",
   "execution_count": 1,
   "id": "26e029b3",
   "metadata": {},
   "outputs": [],
   "source": [
    "stg = \"Nomi\""
   ]
  },
  {
   "cell_type": "code",
   "execution_count": 3,
   "id": "4a05905c",
   "metadata": {},
   "outputs": [
    {
     "name": "stdout",
     "output_type": "stream",
     "text": [
      "Nomi\n"
     ]
    }
   ],
   "source": [
    "print(stg)"
   ]
  },
  {
   "cell_type": "code",
   "execution_count": 4,
   "id": "fa3c00dd",
   "metadata": {},
   "outputs": [],
   "source": [
    "stg = \"Nomi's Birthday\""
   ]
  },
  {
   "cell_type": "code",
   "execution_count": 5,
   "id": "98079ef5",
   "metadata": {},
   "outputs": [
    {
     "name": "stdout",
     "output_type": "stream",
     "text": [
      "Nomi's Birthday\n"
     ]
    }
   ],
   "source": [
    "print(stg)"
   ]
  },
  {
   "cell_type": "code",
   "execution_count": 6,
   "id": "6f562e33",
   "metadata": {},
   "outputs": [],
   "source": [
    "stg ='Nomi said, \"I am busy today\".'"
   ]
  },
  {
   "cell_type": "code",
   "execution_count": 7,
   "id": "69902c9a",
   "metadata": {},
   "outputs": [
    {
     "name": "stdout",
     "output_type": "stream",
     "text": [
      "Nomi said, \"I am busy today\".\n"
     ]
    }
   ],
   "source": [
    "print(stg)"
   ]
  },
  {
   "cell_type": "code",
   "execution_count": 9,
   "id": "f1281836",
   "metadata": {},
   "outputs": [
    {
     "name": "stdout",
     "output_type": "stream",
     "text": [
      "Nomi said, \"I'm busy today\".\n"
     ]
    }
   ],
   "source": [
    "stg ='Nomi said, \"I\\'m busy today\".'\n",
    "print(stg)"
   ]
  },
  {
   "cell_type": "code",
   "execution_count": 10,
   "id": "aeb0f435",
   "metadata": {},
   "outputs": [
    {
     "name": "stdout",
     "output_type": "stream",
     "text": [
      "hey there!\n",
      "Welcome to NUML\n"
     ]
    }
   ],
   "source": [
    "stg ='''hey there!\n",
    "Welcome to NUML'''\n",
    "print(stg)"
   ]
  },
  {
   "cell_type": "code",
   "execution_count": 1,
   "id": "2d43d39e",
   "metadata": {},
   "outputs": [],
   "source": [
    "stg = \"Nomi\""
   ]
  },
  {
   "cell_type": "code",
   "execution_count": 2,
   "id": "02f23438",
   "metadata": {},
   "outputs": [
    {
     "name": "stdout",
     "output_type": "stream",
     "text": [
      "4\n"
     ]
    }
   ],
   "source": [
    "print(len(stg))"
   ]
  },
  {
   "cell_type": "code",
   "execution_count": 3,
   "id": "94f14558",
   "metadata": {},
   "outputs": [
    {
     "name": "stdout",
     "output_type": "stream",
     "text": [
      "N\n",
      "o\n",
      "m\n",
      "i\n"
     ]
    }
   ],
   "source": [
    "for i in stg:\n",
    "    print(i)"
   ]
  },
  {
   "cell_type": "code",
   "execution_count": 4,
   "id": "133516b2",
   "metadata": {},
   "outputs": [
    {
     "name": "stdout",
     "output_type": "stream",
     "text": [
      "Nomi\n"
     ]
    }
   ],
   "source": [
    "print(stg[0:4])"
   ]
  },
  {
   "cell_type": "code",
   "execution_count": 5,
   "id": "f060344e",
   "metadata": {},
   "outputs": [
    {
     "name": "stdout",
     "output_type": "stream",
     "text": [
      "Nomi\n"
     ]
    }
   ],
   "source": [
    "print(stg[:4])"
   ]
  },
  {
   "cell_type": "code",
   "execution_count": 6,
   "id": "49891410",
   "metadata": {},
   "outputs": [
    {
     "name": "stdout",
     "output_type": "stream",
     "text": [
      "Nomi\n"
     ]
    }
   ],
   "source": [
    "print(stg[0:])"
   ]
  },
  {
   "cell_type": "code",
   "execution_count": 8,
   "id": "bad09f9e",
   "metadata": {},
   "outputs": [
    {
     "name": "stdout",
     "output_type": "stream",
     "text": [
      "\n"
     ]
    }
   ],
   "source": [
    "print(stg[4:])"
   ]
  },
  {
   "cell_type": "code",
   "execution_count": 9,
   "id": "248c196c",
   "metadata": {},
   "outputs": [
    {
     "name": "stdout",
     "output_type": "stream",
     "text": [
      "mi\n"
     ]
    }
   ],
   "source": [
    "print(stg[2:4])"
   ]
  },
  {
   "cell_type": "code",
   "execution_count": 10,
   "id": "4aa890ac",
   "metadata": {},
   "outputs": [],
   "source": [
    "stg = \"Nomi Khan\""
   ]
  },
  {
   "cell_type": "code",
   "execution_count": 11,
   "id": "4ef338da",
   "metadata": {},
   "outputs": [
    {
     "name": "stdout",
     "output_type": "stream",
     "text": [
      "nomi khan\n"
     ]
    }
   ],
   "source": [
    "print(stg.lower())"
   ]
  },
  {
   "cell_type": "code",
   "execution_count": 12,
   "id": "448c297a",
   "metadata": {},
   "outputs": [
    {
     "name": "stdout",
     "output_type": "stream",
     "text": [
      "NOMI KHAN\n"
     ]
    }
   ],
   "source": [
    "print(stg.upper())"
   ]
  },
  {
   "cell_type": "code",
   "execution_count": 17,
   "id": "fc6713cc",
   "metadata": {},
   "outputs": [
    {
     "name": "stdout",
     "output_type": "stream",
     "text": [
      "5\n"
     ]
    }
   ],
   "source": [
    "print(stg.find('K'))"
   ]
  },
  {
   "cell_type": "code",
   "execution_count": 16,
   "id": "17ef59ef",
   "metadata": {},
   "outputs": [
    {
     "name": "stdout",
     "output_type": "stream",
     "text": [
      "0\n"
     ]
    }
   ],
   "source": [
    "print(stg.index('N'))"
   ]
  },
  {
   "cell_type": "code",
   "execution_count": 18,
   "id": "6e0c22ac",
   "metadata": {},
   "outputs": [
    {
     "name": "stdout",
     "output_type": "stream",
     "text": [
      "['Nomi', 'Khan']\n"
     ]
    }
   ],
   "source": [
    "print(stg.split(\" \"))"
   ]
  },
  {
   "cell_type": "code",
   "execution_count": 20,
   "id": "d7c2774d",
   "metadata": {},
   "outputs": [
    {
     "name": "stdout",
     "output_type": "stream",
     "text": [
      "Nomi Yousafzai\n"
     ]
    }
   ],
   "source": [
    "print(stg.replace(\"Khan\",\"Yousafzai\"))"
   ]
  },
  {
   "cell_type": "code",
   "execution_count": 21,
   "id": "f90261d4",
   "metadata": {},
   "outputs": [],
   "source": [
    "stg = \"Welcome to  NUML\""
   ]
  },
  {
   "cell_type": "code",
   "execution_count": 22,
   "id": "a9f26b0a",
   "metadata": {},
   "outputs": [
    {
     "name": "stdout",
     "output_type": "stream",
     "text": [
      "('Welcome ', 'to', '  NUML')\n"
     ]
    }
   ],
   "source": [
    "print(stg.partition(\"to\"))"
   ]
  },
  {
   "cell_type": "code",
   "execution_count": 25,
   "id": "ba28b9b3",
   "metadata": {},
   "outputs": [],
   "source": [
    "stg1 = \"Good\"\n",
    "stg2 = \"Morning\"\n",
    "stg = stg1 + \" \" + stg2"
   ]
  },
  {
   "cell_type": "code",
   "execution_count": 26,
   "id": "a7190a8d",
   "metadata": {},
   "outputs": [
    {
     "name": "stdout",
     "output_type": "stream",
     "text": [
      "Good Morning\n"
     ]
    }
   ],
   "source": [
    "print(stg)"
   ]
  },
  {
   "cell_type": "code",
   "execution_count": 27,
   "id": "a30204fe",
   "metadata": {},
   "outputs": [
    {
     "name": "stdout",
     "output_type": "stream",
     "text": [
      "Good Morning\n"
     ]
    }
   ],
   "source": [
    "print(stg1,stg2)"
   ]
  },
  {
   "cell_type": "code",
   "execution_count": 30,
   "id": "fdcf0f42",
   "metadata": {},
   "outputs": [],
   "source": [
    "stg1 = \"Hey\"\n",
    "stg2 = \"there\"\n",
    "stg3 = \"all\"\n",
    "stg = \"{} {} {}\".format(stg1,stg2,stg3)"
   ]
  },
  {
   "cell_type": "code",
   "execution_count": 31,
   "id": "41640ee5",
   "metadata": {},
   "outputs": [
    {
     "name": "stdout",
     "output_type": "stream",
     "text": [
      "Hey there all\n"
     ]
    }
   ],
   "source": [
    "print(stg)"
   ]
  },
  {
   "cell_type": "code",
   "execution_count": null,
   "id": "0cdc8000",
   "metadata": {},
   "outputs": [],
   "source": []
  }
 ],
 "metadata": {
  "kernelspec": {
   "display_name": "Python 3 (ipykernel)",
   "language": "python",
   "name": "python3"
  },
  "language_info": {
   "codemirror_mode": {
    "name": "ipython",
    "version": 3
   },
   "file_extension": ".py",
   "mimetype": "text/x-python",
   "name": "python",
   "nbconvert_exporter": "python",
   "pygments_lexer": "ipython3",
   "version": "3.11.1"
  }
 },
 "nbformat": 4,
 "nbformat_minor": 5
}
