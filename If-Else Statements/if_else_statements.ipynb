{
 "cells": [
  {
   "cell_type": "code",
   "execution_count": 1,
   "id": "f7cbbff7",
   "metadata": {},
   "outputs": [
    {
     "name": "stdout",
     "output_type": "stream",
     "text": [
      "this is inside if body\n",
      "this is outside of the if body\n"
     ]
    }
   ],
   "source": [
    "#the following program shows the use of just if statement\n",
    "a=60\n",
    "if a>50:\n",
    "    print(\"this is inside if body\")\n",
    "print(\"this is outside of the if body\")"
   ]
  },
  {
   "cell_type": "code",
   "execution_count": 4,
   "id": "e49f06c2",
   "metadata": {},
   "outputs": [
    {
     "name": "stdout",
     "output_type": "stream",
     "text": [
      "this is the if block\n",
      "the number is even\n"
     ]
    }
   ],
   "source": [
    "#the following program shows the use of if-else statements\n",
    "a=20\n",
    "if a%2==0:\n",
    "    print(\"this is the if block\")\n",
    "    print(\"the number is even\")\n",
    "else:\n",
    "    print(\"this is else block\")\n",
    "    print(\"the number is odd\")"
   ]
  },
  {
   "cell_type": "code",
   "execution_count": 8,
   "id": "af6c8387",
   "metadata": {},
   "outputs": [
    {
     "name": "stdout",
     "output_type": "stream",
     "text": [
      "c is even and is  less than 25\n"
     ]
    }
   ],
   "source": [
    "#the below program shows the use fo nested if statements\n",
    "c=22\n",
    "if c<25:\n",
    "    if c%2==0:\n",
    "        print(\"c is even and is  less than 25\")\n",
    "    else:\n",
    "        print(\"c is odd and is  less than 25\")\n",
    "else:\n",
    "    print(\"c is greater than 25\")"
   ]
  },
  {
   "cell_type": "code",
   "execution_count": 9,
   "id": "9a98d307",
   "metadata": {},
   "outputs": [
    {
     "name": "stdout",
     "output_type": "stream",
     "text": [
      "this is vowel o\n"
     ]
    }
   ],
   "source": [
    "#the following program shows the use of elif statements in Python\n",
    "var = \"o\"\n",
    "if var==\"a\":\n",
    "    print(\"this is vowel a\")\n",
    "elif var==\"e\":\n",
    "    print(\"this is vowel e\")\n",
    "elif var==\"i\":\n",
    "    print(\"this is vowel i\")\n",
    "elif var==\"o\":\n",
    "    print(\"this is vowel o\")\n",
    "elif var==\"u\":\n",
    "    print(\"this is vowel u\")\n",
    "else:\n",
    "    print(\"this is consonant\")"
   ]
  },
  {
   "cell_type": "code",
   "execution_count": null,
   "id": "2f029fbd",
   "metadata": {},
   "outputs": [],
   "source": []
  }
 ],
 "metadata": {
  "kernelspec": {
   "display_name": "Python 3 (ipykernel)",
   "language": "python",
   "name": "python3"
  },
  "language_info": {
   "codemirror_mode": {
    "name": "ipython",
    "version": 3
   },
   "file_extension": ".py",
   "mimetype": "text/x-python",
   "name": "python",
   "nbconvert_exporter": "python",
   "pygments_lexer": "ipython3",
   "version": "3.11.1"
  }
 },
 "nbformat": 4,
 "nbformat_minor": 5
}
