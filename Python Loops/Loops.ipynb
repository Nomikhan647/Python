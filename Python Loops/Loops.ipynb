{
 "cells": [
  {
   "cell_type": "markdown",
   "id": "1a663306",
   "metadata": {},
   "source": [
    "#While loop"
   ]
  },
  {
   "cell_type": "code",
   "execution_count": null,
   "id": "9e935516",
   "metadata": {},
   "outputs": [],
   "source": [
    "val = int(input(\"Enter multiple of 7: \"))\n",
    "while val%7 != 0:\n",
    "    val = int(input(\"Enter multiple of 7: \"))\n",
    "else:\n",
    "    print(val,\"is a multiple of 7\")"
   ]
  },
  {
   "cell_type": "markdown",
   "id": "681cbb30",
   "metadata": {},
   "source": [
    "#For Loop"
   ]
  },
  {
   "cell_type": "code",
   "execution_count": 7,
   "id": "aae74b32",
   "metadata": {},
   "outputs": [
    {
     "name": "stdout",
     "output_type": "stream",
     "text": [
      "1\n",
      "5\n",
      "Nomi\n"
     ]
    }
   ],
   "source": [
    "x = [1,5,\"Nomi\"]\n",
    "for i in x:\n",
    "    print(i)"
   ]
  },
  {
   "cell_type": "markdown",
   "id": "0f3bd1fb",
   "metadata": {},
   "source": [
    "#Nested Loops"
   ]
  },
  {
   "cell_type": "code",
   "execution_count": 12,
   "id": "7f902597",
   "metadata": {},
   "outputs": [
    {
     "name": "stdout",
     "output_type": "stream",
     "text": [
      "1 2 3  \n",
      "a b c  \n"
     ]
    }
   ],
   "source": [
    "x = [[1,2,3],['a','b','c']]\n",
    "for i in x:\n",
    "    for j in i:\n",
    "        print(j, end=\" \")\n",
    "    print(\" \")"
   ]
  },
  {
   "cell_type": "code",
   "execution_count": 13,
   "id": "d6610aa3",
   "metadata": {},
   "outputs": [
    {
     "name": "stdout",
     "output_type": "stream",
     "text": [
      "H\n",
      "e\n",
      "y\n",
      " \n",
      "t\n",
      "h\n",
      "e\n",
      "r\n",
      "e\n"
     ]
    }
   ],
   "source": [
    "#use of Break control statement\n",
    "x = \"Hey there. how are you?\"\n",
    "for i in x:\n",
    "    if i==\".\":\n",
    "        break\n",
    "    print(i)"
   ]
  },
  {
   "cell_type": "code",
   "execution_count": 14,
   "id": "e56e85b5",
   "metadata": {},
   "outputs": [
    {
     "name": "stdout",
     "output_type": "stream",
     "text": [
      "1\n",
      "6\n"
     ]
    }
   ],
   "source": [
    "#use of continue control statement\n",
    "for i in [1,13,50,6]:\n",
    "    if i>10:\n",
    "        continue\n",
    "    print(i)"
   ]
  },
  {
   "cell_type": "code",
   "execution_count": null,
   "id": "24a15f00",
   "metadata": {},
   "outputs": [],
   "source": []
  }
 ],
 "metadata": {
  "kernelspec": {
   "display_name": "Python 3 (ipykernel)",
   "language": "python",
   "name": "python3"
  },
  "language_info": {
   "codemirror_mode": {
    "name": "ipython",
    "version": 3
   },
   "file_extension": ".py",
   "mimetype": "text/x-python",
   "name": "python",
   "nbconvert_exporter": "python",
   "pygments_lexer": "ipython3",
   "version": "3.11.1"
  }
 },
 "nbformat": 4,
 "nbformat_minor": 5
}
