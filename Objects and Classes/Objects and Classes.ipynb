{
 "cells": [
  {
   "cell_type": "markdown",
   "id": "d02d8d5e",
   "metadata": {},
   "source": [
    "#objects and Classes"
   ]
  },
  {
   "cell_type": "code",
   "execution_count": 5,
   "id": "0a041e04",
   "metadata": {},
   "outputs": [
    {
     "name": "stdout",
     "output_type": "stream",
     "text": [
      "Hi I am  Nomi\n",
      "eligible to vote\n"
     ]
    }
   ],
   "source": [
    "class Person: #class created with the name Person\n",
    "    def __init__(self):  #this is constructer\n",
    "        self.name=\"Nomi\"\n",
    "        self.gender=\"Male\"\n",
    "        self.Age=22\n",
    "    \n",
    "    # below are the two methods of the class Person\n",
    "    def talk(self):\n",
    "        print(\"Hi I am \", self.name)\n",
    "        \n",
    "    def vote(self):\n",
    "        if self.Age<18:\n",
    "            print(\"Not eligible to vote\")\n",
    "        else:\n",
    "            print(\"eligible to vote\")\n",
    "\n",
    "\n",
    "obj = Person()\n",
    "obj.talk()\n",
    "obj.vote()"
   ]
  },
  {
   "cell_type": "code",
   "execution_count": 8,
   "id": "981b23ba",
   "metadata": {},
   "outputs": [
    {
     "name": "stdout",
     "output_type": "stream",
     "text": [
      "Hi I am  Nomi\n",
      "eligible to vote\n"
     ]
    }
   ],
   "source": [
    "class Person: #class created with the name Person\n",
    "    def __init__(self,name,gender,age):  #this is constructer\n",
    "        self.name=name\n",
    "        self.gender=gender\n",
    "        self.Age=age\n",
    "    \n",
    "    # below are the two methods of the class Person\n",
    "    def talk(self):\n",
    "        print(\"Hi I am \", self.name)\n",
    "        \n",
    "    def vote(self):\n",
    "        if self.Age<18:\n",
    "            print(\"Not eligible to vote\")\n",
    "        else:\n",
    "            print(\"eligible to vote\")\n",
    "\n",
    "\n",
    "obj = Person(\"Nomi\",\"Male\",22)\n",
    "obj.talk()\n",
    "obj.vote()"
   ]
  },
  {
   "cell_type": "markdown",
   "id": "81939ac3",
   "metadata": {},
   "source": [
    "#Threading in Python "
   ]
  },
  {
   "cell_type": "code",
   "execution_count": 9,
   "id": "8592e59e",
   "metadata": {},
   "outputs": [
    {
     "name": "stdout",
     "output_type": "stream",
     "text": [
      "This is a child thread\n",
      "This is parent Thread\n"
     ]
    }
   ],
   "source": [
    "from threading import *\n",
    "def show():\n",
    "    print(\"This is a child thread\")\n",
    "    \n",
    "t=Thread(target=show())\n",
    "t.start()\n",
    "print(\"This is parent Thread\")"
   ]
  },
  {
   "cell_type": "code",
   "execution_count": null,
   "id": "06ee66fa",
   "metadata": {},
   "outputs": [],
   "source": []
  }
 ],
 "metadata": {
  "kernelspec": {
   "display_name": "Python 3 (ipykernel)",
   "language": "python",
   "name": "python3"
  },
  "language_info": {
   "codemirror_mode": {
    "name": "ipython",
    "version": 3
   },
   "file_extension": ".py",
   "mimetype": "text/x-python",
   "name": "python",
   "nbconvert_exporter": "python",
   "pygments_lexer": "ipython3",
   "version": "3.11.1"
  }
 },
 "nbformat": 4,
 "nbformat_minor": 5
}
