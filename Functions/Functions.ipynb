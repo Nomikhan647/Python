{
 "cells": [
  {
   "cell_type": "code",
   "execution_count": 1,
   "id": "26a8b39d",
   "metadata": {},
   "outputs": [
    {
     "name": "stdout",
     "output_type": "stream",
     "text": [
      "Good Morning\n"
     ]
    }
   ],
   "source": [
    "def welcome():\n",
    "    print(\"Good Morning\")\n",
    "\n",
    "welcome()"
   ]
  },
  {
   "cell_type": "code",
   "execution_count": 2,
   "id": "1375bae8",
   "metadata": {},
   "outputs": [
    {
     "name": "stdout",
     "output_type": "stream",
     "text": [
      "10\n"
     ]
    }
   ],
   "source": [
    "def add(a,b):\n",
    "    total=a+b\n",
    "    return total\n",
    "\n",
    "result=add(5,5)\n",
    "print(result)"
   ]
  },
  {
   "cell_type": "code",
   "execution_count": 3,
   "id": "6dfcefd2",
   "metadata": {},
   "outputs": [
    {
     "name": "stdout",
     "output_type": "stream",
     "text": [
      "The sum is : 10\n"
     ]
    }
   ],
   "source": [
    "def add(a,b):\n",
    "    total=a+b\n",
    "    print(\"The sum is :\",total)\n",
    "\n",
    "add(5,5)"
   ]
  },
  {
   "cell_type": "code",
   "execution_count": 5,
   "id": "9fb30dbd",
   "metadata": {},
   "outputs": [
    {
     "name": "stdout",
     "output_type": "stream",
     "text": [
      "a:5  b:0\n",
      "The sum is : 5\n"
     ]
    }
   ],
   "source": [
    "def add(a=0,b=0):\n",
    "    total=a+b\n",
    "    print(\"a:%d  b:%d\" %(a,b))\n",
    "    print(\"The sum is :\",total)\n",
    "\n",
    "add(5)"
   ]
  },
  {
   "cell_type": "code",
   "execution_count": null,
   "id": "bb8367a5",
   "metadata": {},
   "outputs": [],
   "source": []
  }
 ],
 "metadata": {
  "kernelspec": {
   "display_name": "Python 3 (ipykernel)",
   "language": "python",
   "name": "python3"
  },
  "language_info": {
   "codemirror_mode": {
    "name": "ipython",
    "version": 3
   },
   "file_extension": ".py",
   "mimetype": "text/x-python",
   "name": "python",
   "nbconvert_exporter": "python",
   "pygments_lexer": "ipython3",
   "version": "3.11.1"
  }
 },
 "nbformat": 4,
 "nbformat_minor": 5
}
